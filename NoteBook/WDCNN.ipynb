{
 "cells": [
  {
   "cell_type": "code",
   "execution_count": 1,
   "metadata": {
    "collapsed": true,
    "ExecuteTime": {
     "end_time": "2023-06-01T04:23:29.320572100Z",
     "start_time": "2023-06-01T04:23:26.239731600Z"
    }
   },
   "outputs": [],
   "source": [
    "import os\n",
    "os.environ['TF_CPP_MIN_LOG_LEVEL'] = '2'\n",
    "import tensorflow as tf\n",
    "\n",
    "gpus = tf.config.experimental.list_physical_devices(device_type='GPU')\n",
    "for gpu in gpus:\n",
    "    tf.config.experimental.set_memory_growth(gpu, True)\n",
    "from tensorflow import keras\n",
    "from tensorflow.keras import layers, Sequential\n",
    "\n",
    "tf.random.set_seed(2345)"
   ]
  },
  {
   "cell_type": "code",
   "execution_count": 2,
   "outputs": [
    {
     "name": "stdout",
     "output_type": "stream",
     "text": [
      "Model: \"sequential\"\n",
      "_________________________________________________________________\n",
      "Layer (type)                 Output Shape              Param #   \n",
      "=================================================================\n",
      "conv1 (Conv1D)               (None, 128, 16)           1040      \n",
      "_________________________________________________________________\n",
      "pooling1 (MaxPooling1D)      (None, 64, 16)            0         \n",
      "_________________________________________________________________\n",
      "conv2 (Conv1D)               (None, 64, 32)            1568      \n",
      "_________________________________________________________________\n",
      "pooling2 (MaxPooling1D)      (None, 32, 32)            0         \n",
      "_________________________________________________________________\n",
      "conv3 (Conv1D)               (None, 32, 64)            6208      \n",
      "_________________________________________________________________\n",
      "pooling3 (MaxPooling1D)      (None, 16, 64)            0         \n",
      "_________________________________________________________________\n",
      "conv4 (Conv1D)               (None, 16, 64)            12352     \n",
      "_________________________________________________________________\n",
      "pooling4 (MaxPooling1D)      (None, 8, 64)             0         \n",
      "_________________________________________________________________\n",
      "conv5 (Conv1D)               (None, 8, 64)             12352     \n",
      "_________________________________________________________________\n",
      "pooling5 (MaxPooling1D)      (None, 4, 64)             0         \n",
      "_________________________________________________________________\n",
      "conv6 (Conv1D)               (None, 4, 64)             12352     \n",
      "_________________________________________________________________\n",
      "pooling6 (GlobalAveragePooli (None, 64)                0         \n",
      "_________________________________________________________________\n",
      "dense1 (Dense)               (None, 32)                2080      \n",
      "_________________________________________________________________\n",
      "dense2 (Dense)               (None, 32)                1056      \n",
      "_________________________________________________________________\n",
      "dense3 (Dense)               (None, 10)                330       \n",
      "=================================================================\n",
      "Total params: 49,338\n",
      "Trainable params: 49,338\n",
      "Non-trainable params: 0\n",
      "_________________________________________________________________\n"
     ]
    }
   ],
   "source": [
    "WDCNN=Sequential([\n",
    "    layers.Conv1D(filters=16,kernel_size=(64,),strides=8,padding='same',name='conv1',batch_input_shape=(None,1024,1)),#[b,1024,1]=>[b,128,16]\n",
    "    layers.MaxPooling1D(pool_size=2,strides=2,padding='valid',name='pooling1'),#[b,128,16]=>[b,64,16]\n",
    "    layers.Conv1D(filters=32,kernel_size=(3,),strides=1,padding='same',name='conv2'),#[b,64,16]=>[b,64,32]\n",
    "    layers.MaxPooling1D(pool_size=2,strides=2,padding='valid',name='pooling2'),#[b,64,32]=>[b,32,32]\n",
    "    layers.Conv1D(filters=64,kernel_size=(3,),strides=1,padding='same',name='conv3'),#[b,32,32]=>[b,32,64]\n",
    "    layers.MaxPooling1D(pool_size=2,strides=2,padding='valid',name='pooling3'),#[b,32,64]=>[b,16,64]\n",
    "    layers.Conv1D(filters=64,kernel_size=(3,),strides=1,padding='same',name='conv4'),#[b,16,64]=>[b,16,64]\n",
    "    layers.MaxPooling1D(pool_size=2,strides=2,padding='valid',name='pooling4'),#[b,16,64]=>[b,8,64]\n",
    "    layers.Conv1D(filters=64,kernel_size=(3,),strides=1,padding='same',name='conv5'),#[b,8,64]=>[b,8,64]\n",
    "    layers.MaxPooling1D(pool_size=2,strides=2,padding='valid',name='pooling5'),#[b,8,64]=>[b,4,64]\n",
    "    layers.Conv1D(filters=64,kernel_size=(3,),strides=1,padding='same',name='conv6'),#[b,4,64]=>[b,4,64]\n",
    "    layers.GlobalAveragePooling1D(name='pooling6'),#[b,4,64]=>[b,64]\n",
    "    layers.Dense(units=32,activation='softmax',name='dense1'),\n",
    "    layers.Dense(units=32,activation='softmax',name='dense2'),\n",
    "    layers.Dense(units=10,activation='softmax',name='dense3')\n",
    "])\n",
    "WDCNN.compile(optimizer=keras.optimizers.Adam(1e-4),loss='categorical_crossentropy',metrics=['accuracy'])\n",
    "WDCNN.summary()"
   ],
   "metadata": {
    "collapsed": false,
    "ExecuteTime": {
     "end_time": "2023-06-01T04:23:39.107744400Z",
     "start_time": "2023-06-01T04:23:39.027148300Z"
    }
   }
  },
  {
   "cell_type": "code",
   "execution_count": 3,
   "outputs": [],
   "source": [
    "'''\n",
    "序列阶段：定义一个函数，该函数主要用于将序列数据按照步长和窗口进行序列提取\n",
    "'''\n",
    "import numpy as np\n",
    "def seq_chunk(seq,chunk,step=None):\n",
    "    if step==None:\n",
    "        step=chunk\n",
    "    seq_length=seq.shape[0]\n",
    "    rows=(seq_length-chunk)//step+1\n",
    "    new_set=np.empty(shape=(rows,chunk))\n",
    "    for i in range(0,seq_length-chunk+1,step):\n",
    "        new_set[i//step]=seq[i:i+chunk]\n",
    "    return new_set"
   ],
   "metadata": {
    "collapsed": false,
    "ExecuteTime": {
     "end_time": "2023-06-01T04:23:43.354860200Z",
     "start_time": "2023-06-01T04:23:43.339227600Z"
    }
   }
  },
  {
   "cell_type": "code",
   "execution_count": 4,
   "outputs": [],
   "source": [
    "import scipy.io as scio\n",
    "import pandas as pd\n",
    "def mixMatSeq(maturl,classify):\n",
    "    if maturl.endswith('.mat'):\n",
    "        data = scio.loadmat(maturl)\n",
    "        data=pd.DataFrame([data])\n",
    "        tmplist=np.array([])\n",
    "        for idx in data:\n",
    "            if idx.endswith('_time'):\n",
    "                tmp=data[idx][0]\n",
    "                tmp=np.squeeze(tmp)\n",
    "                tmp_chunk=seq_chunk(tmp,chunk=1024)\n",
    "                if not(tmplist.any()):\n",
    "                    tmplist=tmp_chunk\n",
    "                else:\n",
    "                    tmplist=np.vstack((tmplist,tmp_chunk))\n",
    "        return (np.ones(shape=(tmplist.shape[0],))*classify).astype(np.int64),tmplist\n",
    "    else:\n",
    "        print('input type error,please input mat url')\n",
    "        pass"
   ],
   "metadata": {
    "collapsed": false,
    "ExecuteTime": {
     "end_time": "2023-06-01T04:23:44.710593700Z",
     "start_time": "2023-06-01T04:23:44.690319300Z"
    }
   }
  },
  {
   "cell_type": "code",
   "execution_count": 5,
   "outputs": [],
   "source": [
    "'''\n",
    "定义一个函数，将映射表传入后，可以根据文件分布，从文件中提取出所需要的标签和序列组\n",
    "upperurl:CRWU文件夹所在的绝对文件路径，用'\\\\'作文件夹分隔符\n",
    "mapdata:映射文件及路径\n",
    "train_rate:从中抽取多少比例做训练集\n",
    "'''\n",
    "def load_data(upperurl,mapdata,train_rate=0.8):\n",
    "    all_label=np.array([])\n",
    "    all_sets=np.array([])\n",
    "    for row in mapdata:\n",
    "        url=upperurl+row['srcurl']\n",
    "        labels,datasets = mixMatSeq(url,row['class'])\n",
    "        if all_sets.shape[0]==0:\n",
    "            all_label=labels\n",
    "            all_sets=datasets\n",
    "        else:\n",
    "            all_label=np.hstack((all_label,labels))#横向拼接\n",
    "            all_sets=np.vstack((all_sets,datasets))#纵向拼接\n",
    "    # 获取所有信息并拼接成总数据集后，将总数据集随机打散，然后按照设定比例划分为训练集和测试集\n",
    "    random_stack=np.hstack((all_sets,all_label.reshape((-1,1))))\n",
    "    np.random.shuffle(random_stack)\n",
    "    all_label=tf.one_hot(random_stack[:,-1],depth=10) # 为方便使用交叉熵，直接对label进行独热编码\n",
    "    all_sets =random_stack[:,:-1]\n",
    "    return (all_sets[:int(all_sets.shape[0]*train_rate)],all_label[:int(all_label.shape[0]*train_rate)]),\\\n",
    "           (all_sets[int(all_sets.shape[0]*train_rate):],all_label[int(all_label.shape[0]*train_rate):])"
   ],
   "metadata": {
    "collapsed": false,
    "ExecuteTime": {
     "end_time": "2023-06-01T04:23:51.873855100Z",
     "start_time": "2023-06-01T04:23:51.858232700Z"
    }
   }
  },
  {
   "cell_type": "code",
   "execution_count": 6,
   "outputs": [
    {
     "data": {
      "text/plain": "10"
     },
     "execution_count": 6,
     "metadata": {},
     "output_type": "execute_result"
    }
   ],
   "source": [
    "mapdata=[{'class':0,'faultname':'基座,健康,载荷0','srcurl':'Normal Baseline\\\\normal_0.mat'},\n",
    "         {'class':4,'faultname':'驱动端,内圈,故障等级1,载荷0','srcurl':'12k Drive End Bearing Fault Data\\\\Inner Race\\\\0007\\\\IR007_0.mat'},\n",
    "         {'class':8,'faultname':'驱动端,滚珠圈,故障等级1,载荷0','srcurl':'12k Drive End Bearing Fault Data\\\\Ball\\\\0007\\\\B007_0.mat'},\n",
    "         {'class':12,'faultname':'驱动端,外圈,故障等级1,位置@6,载荷0','srcurl':'12k Drive End Bearing Fault Data\\\\Outer Race\\\\Centered\\\\0007\\\\OR007@6_0.mat'},\n",
    "         {'class':24,'faultname':'驱动端,内圈,故障等级2,载荷0','srcurl':'12k Drive End Bearing Fault Data\\\\Inner Race\\\\0014\\\\IR014_0.mat'},\n",
    "         {'class':28,'faultname':'驱动端,滚珠圈,故障等级2,载荷0','srcurl':'12k Drive End Bearing Fault Data\\\\Ball\\\\0014\\\\B014_0.mat'},\n",
    "         {'class':32,'faultname':'驱动端,外圈,故障等级2,位置@6,载荷0','srcurl':'12k Drive End Bearing Fault Data\\\\Outer Race\\\\Centered\\\\0014\\\\OR014@6_0.mat'},\n",
    "         {'class':36,'faultname':'驱动端,内圈,故障等级3,载荷0','srcurl':'12k Drive End Bearing Fault Data\\\\Inner Race\\\\0021\\\\IR021_0.mat'},\n",
    "         {'class':40,'faultname':'驱动端,滚珠圈,故障等级3,载荷0','srcurl':'12k Drive End Bearing Fault Data\\\\Ball\\\\0021\\\\B021_0.mat'},\n",
    "         {'class':44,'faultname':'驱动端,外圈,故障等级3,位置@6,载荷0','srcurl':'12k Drive End Bearing Fault Data\\\\Outer Race\\\\Centered\\\\0021\\\\OR021@6_0.mat'},\n",
    "         ]\n",
    "len(mapdata)"
   ],
   "metadata": {
    "collapsed": false,
    "ExecuteTime": {
     "end_time": "2023-06-01T04:23:55.125166800Z",
     "start_time": "2023-06-01T04:23:55.109413300Z"
    }
   }
  },
  {
   "cell_type": "code",
   "execution_count": 7,
   "outputs": [
    {
     "data": {
      "text/plain": "(((2941, 1024, 1), TensorShape([2941, 10])),\n ((736, 1024, 1), TensorShape([736, 10])))"
     },
     "execution_count": 7,
     "metadata": {},
     "output_type": "execute_result"
    }
   ],
   "source": [
    "upperurl='D:\\\\BaiduNetdiskDownload\\\\CRWU凯斯西储大学轴承数据\\\\CRWU\\\\'\n",
    "(x,y),(x_test,y_test)=load_data(upperurl,mapdata)\n",
    "x=np.expand_dims(x,axis=-1)\n",
    "x_test=np.expand_dims(x_test,axis=-1)\n",
    "(x.shape,y.shape),(x_test.shape,y_test.shape) #经过独热编码的y标签，是（109，）的标签数据，能与Dense层对应"
   ],
   "metadata": {
    "collapsed": false,
    "ExecuteTime": {
     "end_time": "2023-06-01T04:23:57.161595400Z",
     "start_time": "2023-06-01T04:23:57.034920800Z"
    }
   }
  },
  {
   "cell_type": "code",
   "execution_count": 8,
   "outputs": [
    {
     "name": "stdout",
     "output_type": "stream",
     "text": [
      "Epoch 1/100\n",
      "3/3 [==============================] - 1s 159ms/step - loss: 0.7242 - accuracy: 0.0000e+00 - val_loss: 0.8120 - val_accuracy: 0.0000e+00\n",
      "Epoch 2/100\n",
      "3/3 [==============================] - 0s 67ms/step - loss: 0.7340 - accuracy: 0.0000e+00 - val_loss: 0.8118 - val_accuracy: 0.0000e+00\n",
      "Epoch 3/100\n",
      "3/3 [==============================] - 0s 64ms/step - loss: 0.7340 - accuracy: 0.0000e+00 - val_loss: 0.8117 - val_accuracy: 0.0000e+00\n",
      "Epoch 4/100\n",
      "3/3 [==============================] - 0s 72ms/step - loss: 0.7276 - accuracy: 0.0000e+00 - val_loss: 0.8115 - val_accuracy: 0.0000e+00\n",
      "Epoch 5/100\n",
      "3/3 [==============================] - 0s 74ms/step - loss: 0.7233 - accuracy: 0.0000e+00 - val_loss: 0.8113 - val_accuracy: 0.0000e+00\n",
      "Epoch 6/100\n",
      "3/3 [==============================] - 0s 71ms/step - loss: 0.7294 - accuracy: 0.0000e+00 - val_loss: 0.8112 - val_accuracy: 0.0000e+00\n",
      "Epoch 7/100\n",
      "3/3 [==============================] - 0s 65ms/step - loss: 0.7227 - accuracy: 0.0000e+00 - val_loss: 0.8110 - val_accuracy: 0.0000e+00\n",
      "Epoch 8/100\n",
      "3/3 [==============================] - 0s 69ms/step - loss: 0.7365 - accuracy: 0.0000e+00 - val_loss: 0.8108 - val_accuracy: 0.0000e+00\n",
      "Epoch 9/100\n",
      "3/3 [==============================] - 0s 72ms/step - loss: 0.7349 - accuracy: 0.0000e+00 - val_loss: 0.8107 - val_accuracy: 0.0000e+00\n",
      "Epoch 10/100\n",
      "3/3 [==============================] - 0s 66ms/step - loss: 0.7196 - accuracy: 0.0000e+00 - val_loss: 0.8105 - val_accuracy: 0.0000e+00\n",
      "Epoch 11/100\n",
      "3/3 [==============================] - 0s 71ms/step - loss: 0.7321 - accuracy: 0.0000e+00 - val_loss: 0.8103 - val_accuracy: 0.0000e+00\n",
      "Epoch 12/100\n",
      "3/3 [==============================] - 0s 71ms/step - loss: 0.7258 - accuracy: 0.0000e+00 - val_loss: 0.8102 - val_accuracy: 0.0000e+00\n",
      "Epoch 13/100\n",
      "3/3 [==============================] - 0s 67ms/step - loss: 0.7431 - accuracy: 0.0000e+00 - val_loss: 0.8100 - val_accuracy: 0.0000e+00\n",
      "Epoch 14/100\n",
      "3/3 [==============================] - 0s 71ms/step - loss: 0.7356 - accuracy: 0.0000e+00 - val_loss: 0.8098 - val_accuracy: 0.0000e+00\n",
      "Epoch 15/100\n",
      "3/3 [==============================] - 0s 79ms/step - loss: 0.7171 - accuracy: 0.0000e+00 - val_loss: 0.8097 - val_accuracy: 0.0000e+00\n",
      "Epoch 16/100\n",
      "3/3 [==============================] - 0s 71ms/step - loss: 0.7352 - accuracy: 0.0000e+00 - val_loss: 0.8095 - val_accuracy: 0.0000e+00\n",
      "Epoch 17/100\n",
      "3/3 [==============================] - 0s 72ms/step - loss: 0.7292 - accuracy: 0.0000e+00 - val_loss: 0.8093 - val_accuracy: 0.0000e+00\n",
      "Epoch 18/100\n",
      "3/3 [==============================] - 0s 66ms/step - loss: 0.7394 - accuracy: 0.0000e+00 - val_loss: 0.8092 - val_accuracy: 0.0000e+00\n",
      "Epoch 19/100\n",
      "3/3 [==============================] - 0s 71ms/step - loss: 0.7294 - accuracy: 0.0000e+00 - val_loss: 0.8090 - val_accuracy: 0.0000e+00\n",
      "Epoch 20/100\n",
      "3/3 [==============================] - 0s 71ms/step - loss: 0.7236 - accuracy: 0.0000e+00 - val_loss: 0.8088 - val_accuracy: 0.0000e+00\n",
      "Epoch 21/100\n",
      "3/3 [==============================] - 0s 67ms/step - loss: 0.7347 - accuracy: 0.0000e+00 - val_loss: 0.8086 - val_accuracy: 0.0000e+00\n",
      "Epoch 22/100\n",
      "3/3 [==============================] - 0s 63ms/step - loss: 0.7269 - accuracy: 0.0000e+00 - val_loss: 0.8084 - val_accuracy: 0.0000e+00\n",
      "Epoch 23/100\n",
      "3/3 [==============================] - 0s 72ms/step - loss: 0.7166 - accuracy: 0.0000e+00 - val_loss: 0.8081 - val_accuracy: 0.0000e+00\n",
      "Epoch 24/100\n",
      "3/3 [==============================] - 0s 71ms/step - loss: 0.7209 - accuracy: 0.0000e+00 - val_loss: 0.8079 - val_accuracy: 0.0000e+00\n",
      "Epoch 25/100\n",
      "3/3 [==============================] - 0s 79ms/step - loss: 0.7369 - accuracy: 0.0000e+00 - val_loss: 0.8075 - val_accuracy: 0.0000e+00\n",
      "Epoch 26/100\n",
      "3/3 [==============================] - ETA: 0s - loss: 0.7257 - accuracy: 0.0000e+00 - 0s 68ms/step - loss: 0.7253 - accuracy: 0.0000e+00 - val_loss: 0.8071 - val_accuracy: 0.0000e+00\n",
      "Epoch 27/100\n",
      "3/3 [==============================] - 0s 72ms/step - loss: 0.7330 - accuracy: 0.0000e+00 - val_loss: 0.8066 - val_accuracy: 0.0000e+00\n",
      "Epoch 28/100\n",
      "3/3 [==============================] - 0s 64ms/step - loss: 0.7197 - accuracy: 0.0000e+00 - val_loss: 0.8062 - val_accuracy: 0.0000e+00\n",
      "Epoch 29/100\n",
      "3/3 [==============================] - 0s 71ms/step - loss: 0.7125 - accuracy: 0.0000e+00 - val_loss: 0.8058 - val_accuracy: 0.0000e+00\n",
      "Epoch 30/100\n",
      "3/3 [==============================] - 0s 71ms/step - loss: 0.7254 - accuracy: 0.0000e+00 - val_loss: 0.8055 - val_accuracy: 0.0000e+00\n",
      "Epoch 31/100\n",
      "3/3 [==============================] - 0s 68ms/step - loss: 0.7315 - accuracy: 0.0000e+00 - val_loss: 0.8053 - val_accuracy: 0.0000e+00\n",
      "Epoch 32/100\n",
      "3/3 [==============================] - 0s 71ms/step - loss: 0.7188 - accuracy: 0.0000e+00 - val_loss: 0.8051 - val_accuracy: 0.0000e+00\n",
      "Epoch 33/100\n",
      "3/3 [==============================] - 0s 66ms/step - loss: 0.7125 - accuracy: 0.0000e+00 - val_loss: 0.8049 - val_accuracy: 0.0000e+00\n",
      "Epoch 34/100\n",
      "3/3 [==============================] - 0s 68ms/step - loss: 0.7212 - accuracy: 0.0000e+00 - val_loss: 0.8048 - val_accuracy: 0.0000e+00\n",
      "Epoch 35/100\n",
      "3/3 [==============================] - 0s 71ms/step - loss: 0.7269 - accuracy: 0.0000e+00 - val_loss: 0.8046 - val_accuracy: 0.0000e+00\n",
      "Epoch 36/100\n",
      "3/3 [==============================] - 0s 70ms/step - loss: 0.7240 - accuracy: 0.0000e+00 - val_loss: 0.8045 - val_accuracy: 0.0000e+00\n",
      "Epoch 37/100\n",
      "3/3 [==============================] - 0s 63ms/step - loss: 0.7280 - accuracy: 0.0000e+00 - val_loss: 0.8043 - val_accuracy: 0.0000e+00\n",
      "Epoch 38/100\n",
      "3/3 [==============================] - 0s 68ms/step - loss: 0.6992 - accuracy: 0.0000e+00 - val_loss: 0.8042 - val_accuracy: 0.0000e+00\n",
      "Epoch 39/100\n",
      "3/3 [==============================] - 0s 72ms/step - loss: 0.7233 - accuracy: 0.0000e+00 - val_loss: 0.8040 - val_accuracy: 0.0000e+00\n",
      "Epoch 40/100\n",
      "3/3 [==============================] - 0s 63ms/step - loss: 0.7187 - accuracy: 0.0000e+00 - val_loss: 0.8038 - val_accuracy: 0.0000e+00\n",
      "Epoch 41/100\n",
      "3/3 [==============================] - 0s 71ms/step - loss: 0.7136 - accuracy: 0.0000e+00 - val_loss: 0.8037 - val_accuracy: 0.6359\n",
      "Epoch 42/100\n",
      "3/3 [==============================] - 0s 71ms/step - loss: 0.7081 - accuracy: 0.7362 - val_loss: 0.8035 - val_accuracy: 0.7826\n",
      "Epoch 43/100\n",
      "3/3 [==============================] - 0s 72ms/step - loss: 0.7086 - accuracy: 0.8110 - val_loss: 0.8034 - val_accuracy: 0.7826\n",
      "Epoch 44/100\n",
      "3/3 [==============================] - 0s 68ms/step - loss: 0.7276 - accuracy: 0.8094 - val_loss: 0.8032 - val_accuracy: 0.7826\n",
      "Epoch 45/100\n",
      "3/3 [==============================] - 0s 72ms/step - loss: 0.7169 - accuracy: 0.8121 - val_loss: 0.8031 - val_accuracy: 0.7826\n",
      "Epoch 46/100\n",
      "3/3 [==============================] - 0s 71ms/step - loss: 0.6950 - accuracy: 0.8177 - val_loss: 0.8029 - val_accuracy: 0.7826\n",
      "Epoch 47/100\n",
      "3/3 [==============================] - 0s 76ms/step - loss: 0.7269 - accuracy: 0.8114 - val_loss: 0.8028 - val_accuracy: 0.7826\n",
      "Epoch 48/100\n",
      "3/3 [==============================] - 0s 73ms/step - loss: 0.7148 - accuracy: 0.8138 - val_loss: 0.8026 - val_accuracy: 0.7826\n",
      "Epoch 49/100\n",
      "3/3 [==============================] - 0s 69ms/step - loss: 0.7146 - accuracy: 0.8138 - val_loss: 0.8025 - val_accuracy: 0.7826\n",
      "Epoch 50/100\n",
      "3/3 [==============================] - 0s 71ms/step - loss: 0.7169 - accuracy: 0.8176 - val_loss: 0.8023 - val_accuracy: 0.7826\n",
      "Epoch 51/100\n",
      "3/3 [==============================] - 0s 76ms/step - loss: 0.7149 - accuracy: 0.8145 - val_loss: 0.8022 - val_accuracy: 0.7826\n",
      "Epoch 52/100\n",
      "3/3 [==============================] - 0s 69ms/step - loss: 0.7285 - accuracy: 0.8165 - val_loss: 0.8021 - val_accuracy: 0.7826\n",
      "Epoch 53/100\n",
      "3/3 [==============================] - 0s 72ms/step - loss: 0.7152 - accuracy: 0.8132 - val_loss: 0.8019 - val_accuracy: 0.7826\n",
      "Epoch 54/100\n",
      "3/3 [==============================] - 0s 64ms/step - loss: 0.7148 - accuracy: 0.8138 - val_loss: 0.8018 - val_accuracy: 0.7826\n",
      "Epoch 55/100\n",
      "3/3 [==============================] - 0s 71ms/step - loss: 0.7301 - accuracy: 0.8127 - val_loss: 0.8016 - val_accuracy: 0.7826\n",
      "Epoch 56/100\n",
      "3/3 [==============================] - 0s 71ms/step - loss: 0.7088 - accuracy: 0.8179 - val_loss: 0.8015 - val_accuracy: 0.7826\n",
      "Epoch 57/100\n",
      "3/3 [==============================] - 0s 67ms/step - loss: 0.7271 - accuracy: 0.8115 - val_loss: 0.8013 - val_accuracy: 0.7826\n",
      "Epoch 58/100\n",
      "3/3 [==============================] - 0s 71ms/step - loss: 0.7143 - accuracy: 0.8121 - val_loss: 0.8012 - val_accuracy: 0.7826\n",
      "Epoch 59/100\n",
      "3/3 [==============================] - 0s 66ms/step - loss: 0.7235 - accuracy: 0.8116 - val_loss: 0.8010 - val_accuracy: 0.7826\n",
      "Epoch 60/100\n",
      "3/3 [==============================] - 0s 64ms/step - loss: 0.7222 - accuracy: 0.8134 - val_loss: 0.8009 - val_accuracy: 0.7826\n",
      "Epoch 61/100\n",
      "3/3 [==============================] - 0s 72ms/step - loss: 0.7082 - accuracy: 0.8156 - val_loss: 0.8007 - val_accuracy: 0.7826\n",
      "Epoch 62/100\n",
      "3/3 [==============================] - 0s 66ms/step - loss: 0.7027 - accuracy: 0.8132 - val_loss: 0.8006 - val_accuracy: 0.7826\n",
      "Epoch 63/100\n",
      "3/3 [==============================] - ETA: 0s - loss: 0.7027 - accuracy: 0.8122 - 0s 64ms/step - loss: 0.7064 - accuracy: 0.8123 - val_loss: 0.8005 - val_accuracy: 0.7826\n",
      "Epoch 64/100\n",
      "3/3 [==============================] - 0s 71ms/step - loss: 0.7352 - accuracy: 0.8103 - val_loss: 0.8003 - val_accuracy: 0.7826\n",
      "Epoch 65/100\n",
      "3/3 [==============================] - 0s 70ms/step - loss: 0.7100 - accuracy: 0.8142 - val_loss: 0.8002 - val_accuracy: 0.7826\n",
      "Epoch 66/100\n",
      "3/3 [==============================] - 0s 71ms/step - loss: 0.6986 - accuracy: 0.8208 - val_loss: 0.8000 - val_accuracy: 0.7826\n",
      "Epoch 67/100\n",
      "3/3 [==============================] - 0s 66ms/step - loss: 0.7113 - accuracy: 0.8160 - val_loss: 0.7999 - val_accuracy: 0.7826\n",
      "Epoch 68/100\n",
      "3/3 [==============================] - 0s 72ms/step - loss: 0.7101 - accuracy: 0.8145 - val_loss: 0.7997 - val_accuracy: 0.7826\n",
      "Epoch 69/100\n",
      "3/3 [==============================] - 0s 64ms/step - loss: 0.7241 - accuracy: 0.8112 - val_loss: 0.7996 - val_accuracy: 0.7826\n",
      "Epoch 70/100\n",
      "3/3 [==============================] - 0s 71ms/step - loss: 0.7129 - accuracy: 0.8084 - val_loss: 0.7995 - val_accuracy: 0.7826\n",
      "Epoch 71/100\n",
      "3/3 [==============================] - 0s 79ms/step - loss: 0.7211 - accuracy: 0.8115 - val_loss: 0.7993 - val_accuracy: 0.7826\n",
      "Epoch 72/100\n",
      "3/3 [==============================] - 0s 71ms/step - loss: 0.7249 - accuracy: 0.8138 - val_loss: 0.7992 - val_accuracy: 0.7826\n",
      "Epoch 73/100\n",
      "3/3 [==============================] - 0s 72ms/step - loss: 0.7080 - accuracy: 0.8167 - val_loss: 0.7990 - val_accuracy: 0.7826\n",
      "Epoch 74/100\n",
      "3/3 [==============================] - 0s 63ms/step - loss: 0.7198 - accuracy: 0.8112 - val_loss: 0.7989 - val_accuracy: 0.7826\n",
      "Epoch 75/100\n",
      "3/3 [==============================] - 0s 68ms/step - loss: 0.7195 - accuracy: 0.8090 - val_loss: 0.7987 - val_accuracy: 0.7826\n",
      "Epoch 76/100\n",
      "3/3 [==============================] - 0s 63ms/step - loss: 0.7042 - accuracy: 0.8182 - val_loss: 0.7986 - val_accuracy: 0.7826\n",
      "Epoch 77/100\n",
      "3/3 [==============================] - 0s 71ms/step - loss: 0.7163 - accuracy: 0.8144 - val_loss: 0.7985 - val_accuracy: 0.7826\n",
      "Epoch 78/100\n",
      "3/3 [==============================] - 0s 71ms/step - loss: 0.7021 - accuracy: 0.8166 - val_loss: 0.7983 - val_accuracy: 0.7826\n",
      "Epoch 79/100\n",
      "3/3 [==============================] - 0s 63ms/step - loss: 0.7087 - accuracy: 0.8137 - val_loss: 0.7982 - val_accuracy: 0.7826\n",
      "Epoch 80/100\n",
      "3/3 [==============================] - 0s 67ms/step - loss: 0.7146 - accuracy: 0.8132 - val_loss: 0.7980 - val_accuracy: 0.7826\n",
      "Epoch 81/100\n",
      "3/3 [==============================] - 0s 62ms/step - loss: 0.7156 - accuracy: 0.8116 - val_loss: 0.7979 - val_accuracy: 0.7826\n",
      "Epoch 82/100\n",
      "3/3 [==============================] - 0s 65ms/step - loss: 0.7239 - accuracy: 0.8129 - val_loss: 0.7978 - val_accuracy: 0.7826\n",
      "Epoch 83/100\n",
      "3/3 [==============================] - 0s 69ms/step - loss: 0.7268 - accuracy: 0.8109 - val_loss: 0.7976 - val_accuracy: 0.7826\n",
      "Epoch 84/100\n",
      "3/3 [==============================] - 0s 72ms/step - loss: 0.7238 - accuracy: 0.8100 - val_loss: 0.7975 - val_accuracy: 0.7826\n",
      "Epoch 85/100\n",
      "3/3 [==============================] - 0s 63ms/step - loss: 0.7156 - accuracy: 0.8123 - val_loss: 0.7973 - val_accuracy: 0.7826\n",
      "Epoch 86/100\n",
      "3/3 [==============================] - 0s 71ms/step - loss: 0.7261 - accuracy: 0.8114 - val_loss: 0.7972 - val_accuracy: 0.7826\n",
      "Epoch 87/100\n",
      "3/3 [==============================] - 0s 64ms/step - loss: 0.7027 - accuracy: 0.8148 - val_loss: 0.7971 - val_accuracy: 0.7826\n",
      "Epoch 88/100\n",
      "3/3 [==============================] - 0s 73ms/step - loss: 0.7174 - accuracy: 0.8122 - val_loss: 0.7969 - val_accuracy: 0.7826\n",
      "Epoch 89/100\n",
      "3/3 [==============================] - 0s 72ms/step - loss: 0.7130 - accuracy: 0.8146 - val_loss: 0.7968 - val_accuracy: 0.7826\n",
      "Epoch 90/100\n",
      "3/3 [==============================] - 0s 68ms/step - loss: 0.7074 - accuracy: 0.8151 - val_loss: 0.7967 - val_accuracy: 0.7826\n",
      "Epoch 91/100\n",
      "3/3 [==============================] - ETA: 0s - loss: 0.7098 - accuracy: 0.8106 - 0s 70ms/step - loss: 0.7108 - accuracy: 0.8111 - val_loss: 0.7965 - val_accuracy: 0.7826\n",
      "Epoch 92/100\n",
      "3/3 [==============================] - 0s 66ms/step - loss: 0.7377 - accuracy: 0.8082 - val_loss: 0.7964 - val_accuracy: 0.7826\n",
      "Epoch 93/100\n",
      "3/3 [==============================] - 0s 71ms/step - loss: 0.7226 - accuracy: 0.8096 - val_loss: 0.7962 - val_accuracy: 0.7826\n",
      "Epoch 94/100\n",
      "3/3 [==============================] - 0s 72ms/step - loss: 0.7079 - accuracy: 0.8116 - val_loss: 0.7961 - val_accuracy: 0.7826\n",
      "Epoch 95/100\n",
      "3/3 [==============================] - 0s 78ms/step - loss: 0.7136 - accuracy: 0.8145 - val_loss: 0.7960 - val_accuracy: 0.7826\n",
      "Epoch 96/100\n",
      "3/3 [==============================] - 0s 71ms/step - loss: 0.7180 - accuracy: 0.8121 - val_loss: 0.7958 - val_accuracy: 0.7826\n",
      "Epoch 97/100\n",
      "3/3 [==============================] - 0s 63ms/step - loss: 0.7242 - accuracy: 0.8096 - val_loss: 0.7957 - val_accuracy: 0.7826\n",
      "Epoch 98/100\n",
      "3/3 [==============================] - 0s 72ms/step - loss: 0.6932 - accuracy: 0.8134 - val_loss: 0.7956 - val_accuracy: 0.7826\n",
      "Epoch 99/100\n",
      "3/3 [==============================] - 0s 71ms/step - loss: 0.7211 - accuracy: 0.8157 - val_loss: 0.7954 - val_accuracy: 0.7826\n",
      "Epoch 100/100\n",
      "3/3 [==============================] - 0s 71ms/step - loss: 0.7215 - accuracy: 0.8082 - val_loss: 0.7953 - val_accuracy: 0.7826\n"
     ]
    }
   ],
   "source": [
    "fitParam=WDCNN.fit(x,y,\n",
    "          batch_size=1024,\n",
    "          epochs=100,\n",
    "          verbose=1,\n",
    "          validation_data=(x_test,y_test))"
   ],
   "metadata": {
    "collapsed": false,
    "ExecuteTime": {
     "end_time": "2023-06-01T04:24:20.029282800Z",
     "start_time": "2023-06-01T04:23:59.574054500Z"
    }
   }
  },
  {
   "cell_type": "code",
   "execution_count": 9,
   "outputs": [],
   "source": [
    "def drawPic(fitParam,imgName):\n",
    "    import matplotlib.pyplot as plt\n",
    "    plt.rcParams['font.sans-serif']=['SimHei'] # 用来正常显示中文标签\n",
    "    plt.rcParams['axes.unicode_minus']=False # 用\n",
    "    epochs = len(fitParam.history['loss'])\n",
    "    fig, ax1 = plt.subplots()\n",
    "    ax2 = ax1.twinx()\n",
    "    lns1 = ax1.plot(range(epochs), np.array(fitParam.history['loss']),color='blue', label=\"Loss\",alpha=0.7)\n",
    "    lns2 = ax1.plot(range(epochs), np.array(fitParam.history['val_loss']),color='crimson', label=\"Loss\",alpha=0.7)\n",
    "    # 按一定间隔显示实现方法\n",
    "    # ax2.plot(200 * np.arange(len(fig_accuracy)), fig_accuracy, 'r')\n",
    "    lns3 = ax2.plot(range(epochs), np.array(fitParam.history['accuracy'])*100,color='green',label=\"Accuracy\",alpha=0.7)\n",
    "    lns4 = ax2.plot(range(epochs), np.array(fitParam.history['val_accuracy'])*100,color='burlywood',label=\"Accuracy\",alpha=0.7)\n",
    "    ax1.set_xlabel('iteration')\n",
    "    ax1.set_ylabel('training loss')\n",
    "    ax2.set_ylabel('training accuracy')\n",
    "    # 合并图例\n",
    "    lns = lns1+ lns2 + lns3+lns4\n",
    "    labels = [\"Loss\",'Val_loss' ,'Accuracy',\"Val_accuracy\"]\n",
    "    plt.legend(lns, labels, loc=7)\n",
    "    plt.title('Loss&Accuracy')\n",
    "    plt.show()"
   ],
   "metadata": {
    "collapsed": false,
    "ExecuteTime": {
     "end_time": "2023-06-01T04:24:26.384113300Z",
     "start_time": "2023-06-01T04:24:26.356022800Z"
    }
   }
  },
  {
   "cell_type": "code",
   "execution_count": 10,
   "outputs": [
    {
     "data": {
      "text/plain": "<Figure size 640x480 with 2 Axes>",
      "image/png": "[encoded data removed]"
     },
     "metadata": {},
     "output_type": "display_data"
    }
   ],
   "source": [
    "drawPic(fitParam,'originModelTraining')"
   ],
   "metadata": {
    "collapsed": false,
    "ExecuteTime": {
     "end_time": "2023-06-01T04:24:30.178579500Z",
     "start_time": "2023-06-01T04:24:29.271604200Z"
    }
   }
  }
 ],
 "metadata": {
  "kernelspec": {
   "display_name": "Python 3",
   "language": "python",
   "name": "python3"
  },
  "language_info": {
   "codemirror_mode": {
    "name": "ipython",
    "version": 2
   },
   "file_extension": ".py",
   "mimetype": "text/x-python",
   "name": "python",
   "nbconvert_exporter": "python",
   "pygments_lexer": "ipython2",
   "version": "2.7.6"
  }
 },
 "nbformat": 4,
 "nbformat_minor": 0
}
